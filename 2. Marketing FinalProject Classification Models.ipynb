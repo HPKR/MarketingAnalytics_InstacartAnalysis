{
 "cells": [
  {
   "cell_type": "markdown",
   "metadata": {},
   "source": [
    "# **Final Project**"
   ]
  },
  {
   "cell_type": "markdown",
   "metadata": {},
   "source": [
    "- **<font color = maroon size = \"4\">Marketing Analytics DAB 303</font>**\n",
    "- **<font color = maroon size = \"4\">Prepared by - Hardeep Kaur, Yash Agrawal, Kshitij Segal</font>**\n",
    "- **<font color = maroon size = \"4\">Under the guidance of - Professor Manjari Maheshwari and Professor Muhammad Anwar Shahid</font>**"
   ]
  },
  {
   "cell_type": "markdown",
   "metadata": {},
   "source": [
    "## **Introduction**\n",
    "**<font size=\"4\">_In this project, we are working on Instacart dataset. As per the description shared on [Kaggle](https://www.kaggle.com/c/instacart-market-basket-analysis/overview), Instacart open sourced this data - see their blog post on [3 Million Instacart Orders, Open Sourced](https://tech.instacart.com/3-million-instacart-orders-open-sourced-d40d29ead6f2)._</font>**    \n",
    "\n",
    "**<font size=\"4\">_Our objective is to analyze this dataset and to provide insights in the form of:_</font>**     \n",
    "\n",
    "**<font size=\"4\">1. Exploratory Data Analysis</font>**    \n",
    "**<font size=\"4\">2. Customer Segmentation on Instacart dataset</font>**     \n",
    "**<font size=\"4\">3. Classification Model to Predict whether a customer will reorder or not</font>**     "
   ]
  },
  {
   "cell_type": "markdown",
   "metadata": {},
   "source": [
    "## **Data Dictionary**\n",
    "**<font size=\"3.5\">Each entity (customer, product, order, aisle, etc.) has an associated unique id.</font>**     \n",
    "- aisles.csv\n",
    "- departments.csv\n",
    "- order_products__prior.csv\n",
    "- orders.csv\n",
    "- products.csv\n",
    "\n",
    "**Detailed Description:** https://gist.github.com/jeremystan/c3b39d947d9b88b3ccff3147dbcf6c6b\n",
    "\n"
   ]
  },
  {
   "cell_type": "markdown",
   "metadata": {},
   "source": [
    "## **Task**\n",
    "**<font size=\"4\">In this notebook, we are building Classification Model to predict whether a customer will reorder or not.</font>**   "
   ]
  },
  {
   "cell_type": "code",
   "execution_count": 1,
   "metadata": {},
   "outputs": [],
   "source": [
    "#Import Standard Libraries\n",
    "import pandas as pd #For dataframe manipulations\n",
    "import numpy as np #For numerical calculations\n",
    "import matplotlib.pyplot as plt #For plotting and visualization\n",
    "import seaborn as sns #For plotting and visualization\n",
    "%matplotlib inline\n",
    "\n",
    "from warnings import filterwarnings #To ignore warnings\n",
    "filterwarnings(\"ignore\")\n",
    "\n",
    "from sklearn.preprocessing import StandardScaler, LabelEncoder #For preprocessing of dataframe and label encoding\n",
    "from sklearn.model_selection import train_test_split, KFold, RandomizedSearchCV, cross_val_score #For split of dataframe and cross validation\n",
    "from sklearn.metrics import accuracy_score, confusion_matrix, plot_confusion_matrix #For measure of performance\n",
    "\n",
    "from sklearn.ensemble import RandomForestClassifier, GradientBoostingClassifier #To build Classification Models."
   ]
  },
  {
   "cell_type": "code",
   "execution_count": 2,
   "metadata": {},
   "outputs": [
    {
     "data": {
      "text/html": [
       "<div>\n",
       "<style scoped>\n",
       "    .dataframe tbody tr th:only-of-type {\n",
       "        vertical-align: middle;\n",
       "    }\n",
       "\n",
       "    .dataframe tbody tr th {\n",
       "        vertical-align: top;\n",
       "    }\n",
       "\n",
       "    .dataframe thead th {\n",
       "        text-align: right;\n",
       "    }\n",
       "</style>\n",
       "<table border=\"1\" class=\"dataframe\">\n",
       "  <thead>\n",
       "    <tr style=\"text-align: right;\">\n",
       "      <th></th>\n",
       "      <th>order_id</th>\n",
       "      <th>user_id</th>\n",
       "      <th>eval_set</th>\n",
       "      <th>order_number</th>\n",
       "      <th>order_dow</th>\n",
       "      <th>order_hour_of_day</th>\n",
       "      <th>days_since_prior_order</th>\n",
       "    </tr>\n",
       "  </thead>\n",
       "  <tbody>\n",
       "    <tr>\n",
       "      <th>0</th>\n",
       "      <td>2539329</td>\n",
       "      <td>1</td>\n",
       "      <td>prior</td>\n",
       "      <td>1</td>\n",
       "      <td>2</td>\n",
       "      <td>8</td>\n",
       "      <td>NaN</td>\n",
       "    </tr>\n",
       "    <tr>\n",
       "      <th>1</th>\n",
       "      <td>2398795</td>\n",
       "      <td>1</td>\n",
       "      <td>prior</td>\n",
       "      <td>2</td>\n",
       "      <td>3</td>\n",
       "      <td>7</td>\n",
       "      <td>15.0</td>\n",
       "    </tr>\n",
       "    <tr>\n",
       "      <th>2</th>\n",
       "      <td>473747</td>\n",
       "      <td>1</td>\n",
       "      <td>prior</td>\n",
       "      <td>3</td>\n",
       "      <td>3</td>\n",
       "      <td>12</td>\n",
       "      <td>21.0</td>\n",
       "    </tr>\n",
       "    <tr>\n",
       "      <th>3</th>\n",
       "      <td>2254736</td>\n",
       "      <td>1</td>\n",
       "      <td>prior</td>\n",
       "      <td>4</td>\n",
       "      <td>4</td>\n",
       "      <td>7</td>\n",
       "      <td>29.0</td>\n",
       "    </tr>\n",
       "    <tr>\n",
       "      <th>4</th>\n",
       "      <td>431534</td>\n",
       "      <td>1</td>\n",
       "      <td>prior</td>\n",
       "      <td>5</td>\n",
       "      <td>4</td>\n",
       "      <td>15</td>\n",
       "      <td>28.0</td>\n",
       "    </tr>\n",
       "  </tbody>\n",
       "</table>\n",
       "</div>"
      ],
      "text/plain": [
       "   order_id  user_id eval_set  order_number  order_dow  order_hour_of_day  \\\n",
       "0   2539329        1    prior             1          2                  8   \n",
       "1   2398795        1    prior             2          3                  7   \n",
       "2    473747        1    prior             3          3                 12   \n",
       "3   2254736        1    prior             4          4                  7   \n",
       "4    431534        1    prior             5          4                 15   \n",
       "\n",
       "   days_since_prior_order  \n",
       "0                     NaN  \n",
       "1                    15.0  \n",
       "2                    21.0  \n",
       "3                    29.0  \n",
       "4                    28.0  "
      ]
     },
     "execution_count": 2,
     "metadata": {},
     "output_type": "execute_result"
    }
   ],
   "source": [
    "orders = pd.read_csv(\"orders.csv\") #Read Orders data\n",
    "orders.head() #View first five rows of dataframe"
   ]
  },
  {
   "cell_type": "code",
   "execution_count": 3,
   "metadata": {},
   "outputs": [
    {
     "data": {
      "text/html": [
       "<div>\n",
       "<style scoped>\n",
       "    .dataframe tbody tr th:only-of-type {\n",
       "        vertical-align: middle;\n",
       "    }\n",
       "\n",
       "    .dataframe tbody tr th {\n",
       "        vertical-align: top;\n",
       "    }\n",
       "\n",
       "    .dataframe thead th {\n",
       "        text-align: right;\n",
       "    }\n",
       "</style>\n",
       "<table border=\"1\" class=\"dataframe\">\n",
       "  <thead>\n",
       "    <tr style=\"text-align: right;\">\n",
       "      <th></th>\n",
       "      <th>aisle_id</th>\n",
       "      <th>aisle</th>\n",
       "    </tr>\n",
       "  </thead>\n",
       "  <tbody>\n",
       "    <tr>\n",
       "      <th>0</th>\n",
       "      <td>1</td>\n",
       "      <td>prepared soups salads</td>\n",
       "    </tr>\n",
       "    <tr>\n",
       "      <th>1</th>\n",
       "      <td>2</td>\n",
       "      <td>specialty cheeses</td>\n",
       "    </tr>\n",
       "    <tr>\n",
       "      <th>2</th>\n",
       "      <td>3</td>\n",
       "      <td>energy granola bars</td>\n",
       "    </tr>\n",
       "    <tr>\n",
       "      <th>3</th>\n",
       "      <td>4</td>\n",
       "      <td>instant foods</td>\n",
       "    </tr>\n",
       "    <tr>\n",
       "      <th>4</th>\n",
       "      <td>5</td>\n",
       "      <td>marinades meat preparation</td>\n",
       "    </tr>\n",
       "  </tbody>\n",
       "</table>\n",
       "</div>"
      ],
      "text/plain": [
       "   aisle_id                       aisle\n",
       "0         1       prepared soups salads\n",
       "1         2           specialty cheeses\n",
       "2         3         energy granola bars\n",
       "3         4               instant foods\n",
       "4         5  marinades meat preparation"
      ]
     },
     "execution_count": 3,
     "metadata": {},
     "output_type": "execute_result"
    }
   ],
   "source": [
    "aisles = pd.read_csv(\"aisles.csv\") #Read Aisles data\n",
    "aisles.head() #View first five rows of dataframe"
   ]
  },
  {
   "cell_type": "code",
   "execution_count": 4,
   "metadata": {},
   "outputs": [
    {
     "data": {
      "text/html": [
       "<div>\n",
       "<style scoped>\n",
       "    .dataframe tbody tr th:only-of-type {\n",
       "        vertical-align: middle;\n",
       "    }\n",
       "\n",
       "    .dataframe tbody tr th {\n",
       "        vertical-align: top;\n",
       "    }\n",
       "\n",
       "    .dataframe thead th {\n",
       "        text-align: right;\n",
       "    }\n",
       "</style>\n",
       "<table border=\"1\" class=\"dataframe\">\n",
       "  <thead>\n",
       "    <tr style=\"text-align: right;\">\n",
       "      <th></th>\n",
       "      <th>department_id</th>\n",
       "      <th>department</th>\n",
       "    </tr>\n",
       "  </thead>\n",
       "  <tbody>\n",
       "    <tr>\n",
       "      <th>0</th>\n",
       "      <td>1</td>\n",
       "      <td>frozen</td>\n",
       "    </tr>\n",
       "    <tr>\n",
       "      <th>1</th>\n",
       "      <td>2</td>\n",
       "      <td>other</td>\n",
       "    </tr>\n",
       "    <tr>\n",
       "      <th>2</th>\n",
       "      <td>3</td>\n",
       "      <td>bakery</td>\n",
       "    </tr>\n",
       "    <tr>\n",
       "      <th>3</th>\n",
       "      <td>4</td>\n",
       "      <td>produce</td>\n",
       "    </tr>\n",
       "    <tr>\n",
       "      <th>4</th>\n",
       "      <td>5</td>\n",
       "      <td>alcohol</td>\n",
       "    </tr>\n",
       "  </tbody>\n",
       "</table>\n",
       "</div>"
      ],
      "text/plain": [
       "   department_id department\n",
       "0              1     frozen\n",
       "1              2      other\n",
       "2              3     bakery\n",
       "3              4    produce\n",
       "4              5    alcohol"
      ]
     },
     "execution_count": 4,
     "metadata": {},
     "output_type": "execute_result"
    }
   ],
   "source": [
    "dept = pd.read_csv(\"departments.csv\") #Read Departments data\n",
    "dept.head() #View first five rows of dataframe"
   ]
  },
  {
   "cell_type": "code",
   "execution_count": 5,
   "metadata": {},
   "outputs": [
    {
     "data": {
      "text/html": [
       "<div>\n",
       "<style scoped>\n",
       "    .dataframe tbody tr th:only-of-type {\n",
       "        vertical-align: middle;\n",
       "    }\n",
       "\n",
       "    .dataframe tbody tr th {\n",
       "        vertical-align: top;\n",
       "    }\n",
       "\n",
       "    .dataframe thead th {\n",
       "        text-align: right;\n",
       "    }\n",
       "</style>\n",
       "<table border=\"1\" class=\"dataframe\">\n",
       "  <thead>\n",
       "    <tr style=\"text-align: right;\">\n",
       "      <th></th>\n",
       "      <th>product_id</th>\n",
       "      <th>product_name</th>\n",
       "      <th>aisle_id</th>\n",
       "      <th>department_id</th>\n",
       "    </tr>\n",
       "  </thead>\n",
       "  <tbody>\n",
       "    <tr>\n",
       "      <th>0</th>\n",
       "      <td>1</td>\n",
       "      <td>Chocolate Sandwich Cookies</td>\n",
       "      <td>61</td>\n",
       "      <td>19</td>\n",
       "    </tr>\n",
       "    <tr>\n",
       "      <th>1</th>\n",
       "      <td>2</td>\n",
       "      <td>All-Seasons Salt</td>\n",
       "      <td>104</td>\n",
       "      <td>13</td>\n",
       "    </tr>\n",
       "    <tr>\n",
       "      <th>2</th>\n",
       "      <td>3</td>\n",
       "      <td>Robust Golden Unsweetened Oolong Tea</td>\n",
       "      <td>94</td>\n",
       "      <td>7</td>\n",
       "    </tr>\n",
       "    <tr>\n",
       "      <th>3</th>\n",
       "      <td>4</td>\n",
       "      <td>Smart Ones Classic Favorites Mini Rigatoni Wit...</td>\n",
       "      <td>38</td>\n",
       "      <td>1</td>\n",
       "    </tr>\n",
       "    <tr>\n",
       "      <th>4</th>\n",
       "      <td>5</td>\n",
       "      <td>Green Chile Anytime Sauce</td>\n",
       "      <td>5</td>\n",
       "      <td>13</td>\n",
       "    </tr>\n",
       "  </tbody>\n",
       "</table>\n",
       "</div>"
      ],
      "text/plain": [
       "   product_id                                       product_name  aisle_id  \\\n",
       "0           1                         Chocolate Sandwich Cookies        61   \n",
       "1           2                                   All-Seasons Salt       104   \n",
       "2           3               Robust Golden Unsweetened Oolong Tea        94   \n",
       "3           4  Smart Ones Classic Favorites Mini Rigatoni Wit...        38   \n",
       "4           5                          Green Chile Anytime Sauce         5   \n",
       "\n",
       "   department_id  \n",
       "0             19  \n",
       "1             13  \n",
       "2              7  \n",
       "3              1  \n",
       "4             13  "
      ]
     },
     "execution_count": 5,
     "metadata": {},
     "output_type": "execute_result"
    }
   ],
   "source": [
    "products = pd.read_csv(\"products.csv\") #Read Products data\n",
    "products.head() #View first five rows of dataframe"
   ]
  },
  {
   "cell_type": "code",
   "execution_count": 6,
   "metadata": {},
   "outputs": [
    {
     "data": {
      "text/html": [
       "<div>\n",
       "<style scoped>\n",
       "    .dataframe tbody tr th:only-of-type {\n",
       "        vertical-align: middle;\n",
       "    }\n",
       "\n",
       "    .dataframe tbody tr th {\n",
       "        vertical-align: top;\n",
       "    }\n",
       "\n",
       "    .dataframe thead th {\n",
       "        text-align: right;\n",
       "    }\n",
       "</style>\n",
       "<table border=\"1\" class=\"dataframe\">\n",
       "  <thead>\n",
       "    <tr style=\"text-align: right;\">\n",
       "      <th></th>\n",
       "      <th>order_id</th>\n",
       "      <th>product_id</th>\n",
       "      <th>add_to_cart_order</th>\n",
       "      <th>reordered</th>\n",
       "    </tr>\n",
       "  </thead>\n",
       "  <tbody>\n",
       "    <tr>\n",
       "      <th>0</th>\n",
       "      <td>2</td>\n",
       "      <td>33120</td>\n",
       "      <td>1</td>\n",
       "      <td>1</td>\n",
       "    </tr>\n",
       "    <tr>\n",
       "      <th>1</th>\n",
       "      <td>2</td>\n",
       "      <td>28985</td>\n",
       "      <td>2</td>\n",
       "      <td>1</td>\n",
       "    </tr>\n",
       "    <tr>\n",
       "      <th>2</th>\n",
       "      <td>2</td>\n",
       "      <td>9327</td>\n",
       "      <td>3</td>\n",
       "      <td>0</td>\n",
       "    </tr>\n",
       "    <tr>\n",
       "      <th>3</th>\n",
       "      <td>2</td>\n",
       "      <td>45918</td>\n",
       "      <td>4</td>\n",
       "      <td>1</td>\n",
       "    </tr>\n",
       "    <tr>\n",
       "      <th>4</th>\n",
       "      <td>2</td>\n",
       "      <td>30035</td>\n",
       "      <td>5</td>\n",
       "      <td>0</td>\n",
       "    </tr>\n",
       "  </tbody>\n",
       "</table>\n",
       "</div>"
      ],
      "text/plain": [
       "   order_id  product_id  add_to_cart_order  reordered\n",
       "0         2       33120                  1          1\n",
       "1         2       28985                  2          1\n",
       "2         2        9327                  3          0\n",
       "3         2       45918                  4          1\n",
       "4         2       30035                  5          0"
      ]
     },
     "execution_count": 6,
     "metadata": {},
     "output_type": "execute_result"
    }
   ],
   "source": [
    "order_products = pd.read_csv(\"order_products__prior.csv\") #Read Order_Products prior data\n",
    "order_products.head() #View first five rows of dataframe"
   ]
  },
  {
   "cell_type": "code",
   "execution_count": 7,
   "metadata": {},
   "outputs": [
    {
     "name": "stdout",
     "output_type": "stream",
     "text": [
      "(3421083, 7)\n",
      "(134, 2)\n",
      "(21, 2)\n",
      "(49688, 4)\n",
      "(32434489, 4)\n"
     ]
    }
   ],
   "source": [
    "#View the shapes of all the dataframes\n",
    "print(orders.shape)\n",
    "print(aisles.shape)\n",
    "print(dept.shape)\n",
    "print(products.shape)\n",
    "print(order_products.shape)"
   ]
  },
  {
   "cell_type": "code",
   "execution_count": 8,
   "metadata": {},
   "outputs": [
    {
     "name": "stdout",
     "output_type": "stream",
     "text": [
      "Table Orders:\n",
      "order_id                       0\n",
      "user_id                        0\n",
      "eval_set                       0\n",
      "order_number                   0\n",
      "order_dow                      0\n",
      "order_hour_of_day              0\n",
      "days_since_prior_order    206209\n",
      "dtype: int64\n",
      "\n",
      "Table Aisles:\n",
      "aisle_id    0\n",
      "aisle       0\n",
      "dtype: int64\n",
      "\n",
      "Table Department:\n",
      "department_id    0\n",
      "department       0\n",
      "dtype: int64\n",
      "\n",
      "Table Products:\n",
      "product_id       0\n",
      "product_name     0\n",
      "aisle_id         0\n",
      "department_id    0\n",
      "dtype: int64\n",
      "\n",
      "Table Order_Products:\n",
      "order_id             0\n",
      "product_id           0\n",
      "add_to_cart_order    0\n",
      "reordered            0\n",
      "dtype: int64\n",
      "\n"
     ]
    }
   ],
   "source": [
    "#View the count of NaN in all the dataframes\n",
    "\n",
    "print(f\"Table Orders:\\n{orders.isna().sum()}\\n\")\n",
    "print(f\"Table Aisles:\\n{aisles.isna().sum()}\\n\")\n",
    "print(f\"Table Department:\\n{dept.isna().sum()}\\n\")\n",
    "print(f\"Table Products:\\n{products.isna().sum()}\\n\")\n",
    "print(f\"Table Order_Products:\\n{order_products.isna().sum()}\\n\")"
   ]
  },
  {
   "cell_type": "markdown",
   "metadata": {},
   "source": [
    "**<font size=\"4\">_In the succeeding code cells, we will be merging all the dataframes into one dataframe. This will be done by performing inner join on the unique ID columns._</font>**"
   ]
  },
  {
   "cell_type": "code",
   "execution_count": 9,
   "metadata": {},
   "outputs": [],
   "source": [
    "#Merging all the dataframes into one\n",
    "\n",
    "temp_1 = pd.merge(order_products, products, on=['product_id', 'product_id'])\n",
    "temp_2 = pd.merge(temp_1, dept, on=['department_id','department_id'])\n",
    "temp_3 = pd.merge(temp_2, aisles, on=['aisle_id','aisle_id'])\n",
    "df = pd.merge(temp_3, orders, on=['order_id','order_id']) #Final Dataframe"
   ]
  },
  {
   "cell_type": "code",
   "execution_count": 10,
   "metadata": {},
   "outputs": [
    {
     "data": {
      "text/html": [
       "<div>\n",
       "<style scoped>\n",
       "    .dataframe tbody tr th:only-of-type {\n",
       "        vertical-align: middle;\n",
       "    }\n",
       "\n",
       "    .dataframe tbody tr th {\n",
       "        vertical-align: top;\n",
       "    }\n",
       "\n",
       "    .dataframe thead th {\n",
       "        text-align: right;\n",
       "    }\n",
       "</style>\n",
       "<table border=\"1\" class=\"dataframe\">\n",
       "  <thead>\n",
       "    <tr style=\"text-align: right;\">\n",
       "      <th></th>\n",
       "      <th>order_id</th>\n",
       "      <th>product_id</th>\n",
       "      <th>add_to_cart_order</th>\n",
       "      <th>reordered</th>\n",
       "      <th>product_name</th>\n",
       "      <th>aisle_id</th>\n",
       "      <th>department_id</th>\n",
       "      <th>department</th>\n",
       "      <th>aisle</th>\n",
       "      <th>user_id</th>\n",
       "      <th>eval_set</th>\n",
       "      <th>order_number</th>\n",
       "      <th>order_dow</th>\n",
       "      <th>order_hour_of_day</th>\n",
       "      <th>days_since_prior_order</th>\n",
       "    </tr>\n",
       "  </thead>\n",
       "  <tbody>\n",
       "    <tr>\n",
       "      <th>0</th>\n",
       "      <td>431534</td>\n",
       "      <td>196</td>\n",
       "      <td>1</td>\n",
       "      <td>1</td>\n",
       "      <td>Soda</td>\n",
       "      <td>77</td>\n",
       "      <td>7</td>\n",
       "      <td>beverages</td>\n",
       "      <td>soft drinks</td>\n",
       "      <td>1</td>\n",
       "      <td>prior</td>\n",
       "      <td>5</td>\n",
       "      <td>4</td>\n",
       "      <td>15</td>\n",
       "      <td>28.0</td>\n",
       "    </tr>\n",
       "    <tr>\n",
       "      <th>1</th>\n",
       "      <td>431534</td>\n",
       "      <td>10258</td>\n",
       "      <td>3</td>\n",
       "      <td>1</td>\n",
       "      <td>Pistachios</td>\n",
       "      <td>117</td>\n",
       "      <td>19</td>\n",
       "      <td>snacks</td>\n",
       "      <td>nuts seeds dried fruit</td>\n",
       "      <td>1</td>\n",
       "      <td>prior</td>\n",
       "      <td>5</td>\n",
       "      <td>4</td>\n",
       "      <td>15</td>\n",
       "      <td>28.0</td>\n",
       "    </tr>\n",
       "    <tr>\n",
       "      <th>2</th>\n",
       "      <td>431534</td>\n",
       "      <td>10326</td>\n",
       "      <td>5</td>\n",
       "      <td>0</td>\n",
       "      <td>Organic Fuji Apples</td>\n",
       "      <td>24</td>\n",
       "      <td>4</td>\n",
       "      <td>produce</td>\n",
       "      <td>fresh fruits</td>\n",
       "      <td>1</td>\n",
       "      <td>prior</td>\n",
       "      <td>5</td>\n",
       "      <td>4</td>\n",
       "      <td>15</td>\n",
       "      <td>28.0</td>\n",
       "    </tr>\n",
       "    <tr>\n",
       "      <th>3</th>\n",
       "      <td>431534</td>\n",
       "      <td>12427</td>\n",
       "      <td>2</td>\n",
       "      <td>1</td>\n",
       "      <td>Original Beef Jerky</td>\n",
       "      <td>23</td>\n",
       "      <td>19</td>\n",
       "      <td>snacks</td>\n",
       "      <td>popcorn jerky</td>\n",
       "      <td>1</td>\n",
       "      <td>prior</td>\n",
       "      <td>5</td>\n",
       "      <td>4</td>\n",
       "      <td>15</td>\n",
       "      <td>28.0</td>\n",
       "    </tr>\n",
       "    <tr>\n",
       "      <th>4</th>\n",
       "      <td>431534</td>\n",
       "      <td>13176</td>\n",
       "      <td>8</td>\n",
       "      <td>1</td>\n",
       "      <td>Bag of Organic Bananas</td>\n",
       "      <td>24</td>\n",
       "      <td>4</td>\n",
       "      <td>produce</td>\n",
       "      <td>fresh fruits</td>\n",
       "      <td>1</td>\n",
       "      <td>prior</td>\n",
       "      <td>5</td>\n",
       "      <td>4</td>\n",
       "      <td>15</td>\n",
       "      <td>28.0</td>\n",
       "    </tr>\n",
       "  </tbody>\n",
       "</table>\n",
       "</div>"
      ],
      "text/plain": [
       "   order_id  product_id  add_to_cart_order  reordered            product_name  \\\n",
       "0    431534         196                  1          1                    Soda   \n",
       "1    431534       10258                  3          1              Pistachios   \n",
       "2    431534       10326                  5          0     Organic Fuji Apples   \n",
       "3    431534       12427                  2          1     Original Beef Jerky   \n",
       "4    431534       13176                  8          1  Bag of Organic Bananas   \n",
       "\n",
       "   aisle_id  department_id department                   aisle  user_id  \\\n",
       "0        77              7  beverages             soft drinks        1   \n",
       "1       117             19     snacks  nuts seeds dried fruit        1   \n",
       "2        24              4    produce            fresh fruits        1   \n",
       "3        23             19     snacks           popcorn jerky        1   \n",
       "4        24              4    produce            fresh fruits        1   \n",
       "\n",
       "  eval_set  order_number  order_dow  order_hour_of_day  days_since_prior_order  \n",
       "0    prior             5          4                 15                    28.0  \n",
       "1    prior             5          4                 15                    28.0  \n",
       "2    prior             5          4                 15                    28.0  \n",
       "3    prior             5          4                 15                    28.0  \n",
       "4    prior             5          4                 15                    28.0  "
      ]
     },
     "execution_count": 10,
     "metadata": {},
     "output_type": "execute_result"
    }
   ],
   "source": [
    "#Sort all the columns by user_id, order_id, and then product_id in ascending order\n",
    "\n",
    "df.sort_values(by=['user_id', 'order_id', 'product_id'], ascending=True, inplace=True)\n",
    "df.reset_index(inplace=True)\n",
    "df.drop(['index'], axis=1, inplace=True)\n",
    "df.head() #View the dataset"
   ]
  },
  {
   "cell_type": "code",
   "execution_count": 11,
   "metadata": {},
   "outputs": [
    {
     "data": {
      "text/plain": [
       "(32434489, 15)"
      ]
     },
     "execution_count": 11,
     "metadata": {},
     "output_type": "execute_result"
    }
   ],
   "source": [
    "df.shape #View the shape of the merged dataset"
   ]
  },
  {
   "cell_type": "code",
   "execution_count": 12,
   "metadata": {},
   "outputs": [
    {
     "data": {
      "text/plain": [
       "order_id                        0\n",
       "product_id                      0\n",
       "add_to_cart_order               0\n",
       "reordered                       0\n",
       "product_name                    0\n",
       "aisle_id                        0\n",
       "department_id                   0\n",
       "department                      0\n",
       "aisle                           0\n",
       "user_id                         0\n",
       "eval_set                        0\n",
       "order_number                    0\n",
       "order_dow                       0\n",
       "order_hour_of_day               0\n",
       "days_since_prior_order    2078068\n",
       "dtype: int64"
      ]
     },
     "execution_count": 12,
     "metadata": {},
     "output_type": "execute_result"
    }
   ],
   "source": [
    "#Evaluate NaN values\n",
    "df.isna().sum()"
   ]
  },
  {
   "cell_type": "markdown",
   "metadata": {},
   "source": [
    "**<font size=\"4\">Since, we have huge amount of data, we can drop the rows which have null values in them.</font>**"
   ]
  },
  {
   "cell_type": "code",
   "execution_count": 13,
   "metadata": {},
   "outputs": [],
   "source": [
    "df.dropna(inplace=True) #Drop NaN data rows\n",
    "df.reset_index(inplace=True) #Reset the indices\n",
    "df.drop(['index'], axis=1, inplace=True) #Drop the column 'index'"
   ]
  },
  {
   "cell_type": "code",
   "execution_count": 14,
   "metadata": {},
   "outputs": [
    {
     "data": {
      "text/plain": [
       "(30356421, 15)"
      ]
     },
     "execution_count": 14,
     "metadata": {},
     "output_type": "execute_result"
    }
   ],
   "source": [
    "#View the shape of dataframe\n",
    "df.shape"
   ]
  },
  {
   "cell_type": "code",
   "execution_count": 15,
   "metadata": {},
   "outputs": [
    {
     "data": {
      "text/html": [
       "<div>\n",
       "<style scoped>\n",
       "    .dataframe tbody tr th:only-of-type {\n",
       "        vertical-align: middle;\n",
       "    }\n",
       "\n",
       "    .dataframe tbody tr th {\n",
       "        vertical-align: top;\n",
       "    }\n",
       "\n",
       "    .dataframe thead th {\n",
       "        text-align: right;\n",
       "    }\n",
       "</style>\n",
       "<table border=\"1\" class=\"dataframe\">\n",
       "  <thead>\n",
       "    <tr style=\"text-align: right;\">\n",
       "      <th></th>\n",
       "      <th>order_id</th>\n",
       "      <th>product_id</th>\n",
       "      <th>add_to_cart_order</th>\n",
       "      <th>reordered</th>\n",
       "      <th>product_name</th>\n",
       "      <th>aisle_id</th>\n",
       "      <th>department_id</th>\n",
       "      <th>department</th>\n",
       "      <th>aisle</th>\n",
       "      <th>user_id</th>\n",
       "      <th>eval_set</th>\n",
       "      <th>order_number</th>\n",
       "      <th>order_dow</th>\n",
       "      <th>order_hour_of_day</th>\n",
       "      <th>days_since_prior_order</th>\n",
       "    </tr>\n",
       "  </thead>\n",
       "  <tbody>\n",
       "    <tr>\n",
       "      <th>0</th>\n",
       "      <td>431534</td>\n",
       "      <td>196</td>\n",
       "      <td>1</td>\n",
       "      <td>1</td>\n",
       "      <td>Soda</td>\n",
       "      <td>77</td>\n",
       "      <td>7</td>\n",
       "      <td>beverages</td>\n",
       "      <td>soft drinks</td>\n",
       "      <td>1</td>\n",
       "      <td>prior</td>\n",
       "      <td>5</td>\n",
       "      <td>4</td>\n",
       "      <td>15</td>\n",
       "      <td>28.0</td>\n",
       "    </tr>\n",
       "    <tr>\n",
       "      <th>1</th>\n",
       "      <td>431534</td>\n",
       "      <td>10258</td>\n",
       "      <td>3</td>\n",
       "      <td>1</td>\n",
       "      <td>Pistachios</td>\n",
       "      <td>117</td>\n",
       "      <td>19</td>\n",
       "      <td>snacks</td>\n",
       "      <td>nuts seeds dried fruit</td>\n",
       "      <td>1</td>\n",
       "      <td>prior</td>\n",
       "      <td>5</td>\n",
       "      <td>4</td>\n",
       "      <td>15</td>\n",
       "      <td>28.0</td>\n",
       "    </tr>\n",
       "  </tbody>\n",
       "</table>\n",
       "</div>"
      ],
      "text/plain": [
       "   order_id  product_id  add_to_cart_order  reordered product_name  aisle_id  \\\n",
       "0    431534         196                  1          1         Soda        77   \n",
       "1    431534       10258                  3          1   Pistachios       117   \n",
       "\n",
       "   department_id department                   aisle  user_id eval_set  \\\n",
       "0              7  beverages             soft drinks        1    prior   \n",
       "1             19     snacks  nuts seeds dried fruit        1    prior   \n",
       "\n",
       "   order_number  order_dow  order_hour_of_day  days_since_prior_order  \n",
       "0             5          4                 15                    28.0  \n",
       "1             5          4                 15                    28.0  "
      ]
     },
     "execution_count": 15,
     "metadata": {},
     "output_type": "execute_result"
    }
   ],
   "source": [
    "#View the dataset\n",
    "df.head(2)"
   ]
  },
  {
   "cell_type": "code",
   "execution_count": 16,
   "metadata": {},
   "outputs": [
    {
     "name": "stdout",
     "output_type": "stream",
     "text": [
      "<class 'pandas.core.frame.DataFrame'>\n",
      "RangeIndex: 30356421 entries, 0 to 30356420\n",
      "Data columns (total 15 columns):\n",
      " #   Column                  Dtype  \n",
      "---  ------                  -----  \n",
      " 0   order_id                int64  \n",
      " 1   product_id              int64  \n",
      " 2   add_to_cart_order       int64  \n",
      " 3   reordered               int64  \n",
      " 4   product_name            object \n",
      " 5   aisle_id                int64  \n",
      " 6   department_id           int64  \n",
      " 7   department              object \n",
      " 8   aisle                   object \n",
      " 9   user_id                 int64  \n",
      " 10  eval_set                object \n",
      " 11  order_number            int64  \n",
      " 12  order_dow               int64  \n",
      " 13  order_hour_of_day       int64  \n",
      " 14  days_since_prior_order  float64\n",
      "dtypes: float64(1), int64(10), object(4)\n",
      "memory usage: 3.4+ GB\n"
     ]
    }
   ],
   "source": [
    "df.info() #Display the information related to the dataframe"
   ]
  },
  {
   "cell_type": "markdown",
   "metadata": {},
   "source": [
    "### **Observations**    \n",
    "**<font size=\"3.9\">Here, we have columns of type object. We have to transform these columns to numeric format before training the model.</font>**"
   ]
  },
  {
   "cell_type": "code",
   "execution_count": 17,
   "metadata": {},
   "outputs": [
    {
     "data": {
      "text/plain": [
       "Index(['product_name', 'department', 'aisle', 'eval_set'], dtype='object')"
      ]
     },
     "execution_count": 17,
     "metadata": {},
     "output_type": "execute_result"
    }
   ],
   "source": [
    "df.select_dtypes('object').columns #Identify the columns of datatype object"
   ]
  },
  {
   "cell_type": "code",
   "execution_count": 18,
   "metadata": {},
   "outputs": [],
   "source": [
    "#Convert the categorical data into numeric data. These categories are Nominal in nature. \n",
    "#These can be converted using .astype('category').cat.codes\n",
    "\n",
    "df['product_name'] = df['product_name'].astype('category').cat.codes\n",
    "df['department'] = df['department'].astype('category').cat.codes\n",
    "df['aisle'] = df['aisle'].astype('category').cat.codes"
   ]
  },
  {
   "cell_type": "code",
   "execution_count": 19,
   "metadata": {},
   "outputs": [
    {
     "data": {
      "text/html": [
       "<div>\n",
       "<style scoped>\n",
       "    .dataframe tbody tr th:only-of-type {\n",
       "        vertical-align: middle;\n",
       "    }\n",
       "\n",
       "    .dataframe tbody tr th {\n",
       "        vertical-align: top;\n",
       "    }\n",
       "\n",
       "    .dataframe thead th {\n",
       "        text-align: right;\n",
       "    }\n",
       "</style>\n",
       "<table border=\"1\" class=\"dataframe\">\n",
       "  <thead>\n",
       "    <tr style=\"text-align: right;\">\n",
       "      <th></th>\n",
       "      <th>order_id</th>\n",
       "      <th>product_id</th>\n",
       "      <th>add_to_cart_order</th>\n",
       "      <th>reordered</th>\n",
       "      <th>product_name</th>\n",
       "      <th>aisle_id</th>\n",
       "      <th>department_id</th>\n",
       "      <th>department</th>\n",
       "      <th>aisle</th>\n",
       "      <th>user_id</th>\n",
       "      <th>eval_set</th>\n",
       "      <th>order_number</th>\n",
       "      <th>order_dow</th>\n",
       "      <th>order_hour_of_day</th>\n",
       "      <th>days_since_prior_order</th>\n",
       "    </tr>\n",
       "  </thead>\n",
       "  <tbody>\n",
       "    <tr>\n",
       "      <th>0</th>\n",
       "      <td>431534</td>\n",
       "      <td>196</td>\n",
       "      <td>1</td>\n",
       "      <td>1</td>\n",
       "      <td>41291</td>\n",
       "      <td>77</td>\n",
       "      <td>7</td>\n",
       "      <td>3</td>\n",
       "      <td>117</td>\n",
       "      <td>1</td>\n",
       "      <td>prior</td>\n",
       "      <td>5</td>\n",
       "      <td>4</td>\n",
       "      <td>15</td>\n",
       "      <td>28.0</td>\n",
       "    </tr>\n",
       "    <tr>\n",
       "      <th>1</th>\n",
       "      <td>431534</td>\n",
       "      <td>10258</td>\n",
       "      <td>3</td>\n",
       "      <td>1</td>\n",
       "      <td>35000</td>\n",
       "      <td>117</td>\n",
       "      <td>19</td>\n",
       "      <td>20</td>\n",
       "      <td>88</td>\n",
       "      <td>1</td>\n",
       "      <td>prior</td>\n",
       "      <td>5</td>\n",
       "      <td>4</td>\n",
       "      <td>15</td>\n",
       "      <td>28.0</td>\n",
       "    </tr>\n",
       "    <tr>\n",
       "      <th>2</th>\n",
       "      <td>431534</td>\n",
       "      <td>10326</td>\n",
       "      <td>5</td>\n",
       "      <td>0</td>\n",
       "      <td>29963</td>\n",
       "      <td>24</td>\n",
       "      <td>4</td>\n",
       "      <td>19</td>\n",
       "      <td>50</td>\n",
       "      <td>1</td>\n",
       "      <td>prior</td>\n",
       "      <td>5</td>\n",
       "      <td>4</td>\n",
       "      <td>15</td>\n",
       "      <td>28.0</td>\n",
       "    </tr>\n",
       "    <tr>\n",
       "      <th>3</th>\n",
       "      <td>431534</td>\n",
       "      <td>12427</td>\n",
       "      <td>2</td>\n",
       "      <td>1</td>\n",
       "      <td>32715</td>\n",
       "      <td>23</td>\n",
       "      <td>19</td>\n",
       "      <td>20</td>\n",
       "      <td>103</td>\n",
       "      <td>1</td>\n",
       "      <td>prior</td>\n",
       "      <td>5</td>\n",
       "      <td>4</td>\n",
       "      <td>15</td>\n",
       "      <td>28.0</td>\n",
       "    </tr>\n",
       "    <tr>\n",
       "      <th>4</th>\n",
       "      <td>431534</td>\n",
       "      <td>13176</td>\n",
       "      <td>8</td>\n",
       "      <td>1</td>\n",
       "      <td>3470</td>\n",
       "      <td>24</td>\n",
       "      <td>4</td>\n",
       "      <td>19</td>\n",
       "      <td>50</td>\n",
       "      <td>1</td>\n",
       "      <td>prior</td>\n",
       "      <td>5</td>\n",
       "      <td>4</td>\n",
       "      <td>15</td>\n",
       "      <td>28.0</td>\n",
       "    </tr>\n",
       "  </tbody>\n",
       "</table>\n",
       "</div>"
      ],
      "text/plain": [
       "   order_id  product_id  add_to_cart_order  reordered  product_name  aisle_id  \\\n",
       "0    431534         196                  1          1         41291        77   \n",
       "1    431534       10258                  3          1         35000       117   \n",
       "2    431534       10326                  5          0         29963        24   \n",
       "3    431534       12427                  2          1         32715        23   \n",
       "4    431534       13176                  8          1          3470        24   \n",
       "\n",
       "   department_id  department  aisle  user_id eval_set  order_number  \\\n",
       "0              7           3    117        1    prior             5   \n",
       "1             19          20     88        1    prior             5   \n",
       "2              4          19     50        1    prior             5   \n",
       "3             19          20    103        1    prior             5   \n",
       "4              4          19     50        1    prior             5   \n",
       "\n",
       "   order_dow  order_hour_of_day  days_since_prior_order  \n",
       "0          4                 15                    28.0  \n",
       "1          4                 15                    28.0  \n",
       "2          4                 15                    28.0  \n",
       "3          4                 15                    28.0  \n",
       "4          4                 15                    28.0  "
      ]
     },
     "execution_count": 19,
     "metadata": {},
     "output_type": "execute_result"
    }
   ],
   "source": [
    "df.head() #View the dataset"
   ]
  },
  {
   "cell_type": "markdown",
   "metadata": {},
   "source": [
    "**<font size=\"4\">_Since, our dataset is very large in size, this will degrade the performance of our kernel. In order to train the models, we can pick random sample from the dataset and can train the model on that sample._</font>**     \n",
    "**<font size=\"4\">_Another reason why are we doing this is that this will boost in-memory computation while training the model._</font>**    \n"
   ]
  },
  {
   "cell_type": "code",
   "execution_count": 20,
   "metadata": {},
   "outputs": [],
   "source": [
    "#In this code cell, we have picked 3.3% sample from our total population\n",
    "data = df.sample(frac=0.033, replace=True, random_state=1) "
   ]
  },
  {
   "cell_type": "code",
   "execution_count": 21,
   "metadata": {},
   "outputs": [
    {
     "data": {
      "text/plain": [
       "(1001762, 15)"
      ]
     },
     "execution_count": 21,
     "metadata": {},
     "output_type": "execute_result"
    }
   ],
   "source": [
    "data.shape #View the shape of the sample"
   ]
  },
  {
   "cell_type": "markdown",
   "metadata": {},
   "source": [
    "**<font size=\"3.9\">_Our target column is 'reordered'_</font>**"
   ]
  },
  {
   "cell_type": "code",
   "execution_count": 22,
   "metadata": {},
   "outputs": [
    {
     "data": {
      "text/plain": [
       "1    632264\n",
       "0    369498\n",
       "Name: reordered, dtype: int64"
      ]
     },
     "execution_count": 22,
     "metadata": {},
     "output_type": "execute_result"
    }
   ],
   "source": [
    "data['reordered'].value_counts() #View the distribution of classes in target variable"
   ]
  },
  {
   "cell_type": "markdown",
   "metadata": {},
   "source": [
    "### **Model Building**\n",
    "**<font size=\"3.5\">eval_set has no significance. We can get rid of this column.</font>**"
   ]
  },
  {
   "cell_type": "code",
   "execution_count": 23,
   "metadata": {},
   "outputs": [],
   "source": [
    "X = data.drop(['reordered','eval_set'], axis=1) #Create feature array\n",
    "y = data.reordered #Create target variable array"
   ]
  },
  {
   "cell_type": "code",
   "execution_count": 24,
   "metadata": {},
   "outputs": [
    {
     "data": {
      "text/plain": [
       "(1001762, 13)"
      ]
     },
     "execution_count": 24,
     "metadata": {},
     "output_type": "execute_result"
    }
   ],
   "source": [
    "X.shape #View shape of features"
   ]
  },
  {
   "cell_type": "code",
   "execution_count": 25,
   "metadata": {},
   "outputs": [
    {
     "data": {
      "text/plain": [
       "(1001762,)"
      ]
     },
     "execution_count": 25,
     "metadata": {},
     "output_type": "execute_result"
    }
   ],
   "source": [
    "y.shape #View shape of target"
   ]
  },
  {
   "cell_type": "markdown",
   "metadata": {},
   "source": [
    "## **Random Forest Classifier Model**"
   ]
  },
  {
   "cell_type": "code",
   "execution_count": 26,
   "metadata": {},
   "outputs": [],
   "source": [
    "# In order to split data into train, validation and test sets\n",
    "# We'll be performing train_test_split twice. First, we'll split the data into train:test ratio of 80:20\n",
    "# Further, we'll be splitting 80% of training data into 65% of training and 15% of validation set data.\n",
    "\n",
    "#Split data into train and test\n",
    "X_train1, X_test, y_train1, y_test = train_test_split(X, y, test_size = 0.2, random_state=1) \n",
    "X_train, X_val, y_train, y_val = train_test_split(X_train1, y_train1, test_size = 0.1875, random_state=1)"
   ]
  },
  {
   "cell_type": "markdown",
   "metadata": {},
   "source": [
    "**<font size=\"3.5\">For this model, we'll be using validation set to tune the hyperparameters.</font>**"
   ]
  },
  {
   "cell_type": "code",
   "execution_count": 27,
   "metadata": {},
   "outputs": [
    {
     "name": "stdout",
     "output_type": "stream",
     "text": [
      "Tree #: 5 [0.66988255 0.67203875]\n",
      "Mean Accuracy for Training Set is:  67.41 %\n",
      "Accuracy Score on Validation Set is 67.69%\n",
      "\n",
      "Tree #: 11 [0.69179168 0.69237527]\n",
      "Mean Accuracy for Training Set is:  69.48 %\n",
      "Accuracy Score on Validation Set is 69.65%\n",
      "\n",
      "***********************************************\n",
      "All Validation Scores: [0.6768642065683959, 0.6964762253352411]\n",
      "\n",
      "Best Accuracy Score: 69.65%\n",
      "Best Parameters for Random Forest Classfier: {'n_estimators': 11}\n"
     ]
    }
   ],
   "source": [
    "#Define number of trees and K folds\n",
    "n_trees = range(5,13,6)\n",
    "k_fold = range(2,5)\n",
    "\n",
    "#Initialize placeholder variables to determine the best parameters of the model\n",
    "best_score=0\n",
    "scores_val=[]\n",
    "number_trees=[]\n",
    "\n",
    "#Loop for Model Creation and Evaluation\n",
    "for i in n_trees:\n",
    "    #Loop for K Fold\n",
    "    #for j in k_fold:\n",
    "        rfc = RandomForestClassifier(n_estimators = i, random_state=1) # Invooke RandomForestClassifier model \n",
    "        rfc.fit(X_train, y_train) # Fit the model\n",
    "        #print(f\"Display Results for K Fold: {j}\") #Print the results for K Folds\n",
    "        print(\"Tree #:\",i,cross_val_score(rfc, X_train, y_train, cv=2)) # Display Cross Val Scores for different number of Trees\n",
    "        \n",
    "        # Evaluation of Mean Accuracy of Training Set\n",
    "        print(\"Mean Accuracy for Training Set is: \", round(sum(cross_val_score(rfc, X_train, y_train, cv=4)/4)*100,2),\"%\") \n",
    "        score = rfc.score(X_val, y_val) # Evaluation of model on validation set\n",
    "        print(f\"Accuracy Score on Validation Set is {100*score:.2f}%\\n\") # Display the accuracies on validation set\n",
    "        scores_val.append(score) # append the scores to an array\n",
    "        if score >= best_score: # if statement to determine the best parameters of the model\n",
    "            best_score=score\n",
    "            best_params={'n_estimators' : i}\n",
    "            \n",
    "print(\"***********************************************\")\n",
    "print(\"All Validation Scores:\",scores_val) # display all validation set accuracies\n",
    "print(f\"\\nBest Accuracy Score: {100*best_score:.2f}%\") # display the best accuracy on validation set\n",
    "\n",
    "# display the parameters that generated the best accuracy on validation set\n",
    "print(f\"Best Parameters for Random Forest Classfier: {best_params}\") "
   ]
  },
  {
   "cell_type": "markdown",
   "metadata": {},
   "source": [
    "**<font size=\"3.5\">_Best Parameters have n_estimators=11. We'll be building our model on this parameter._</font>**"
   ]
  },
  {
   "cell_type": "markdown",
   "metadata": {},
   "source": [
    "### **Evaluation of RFC Model on Test Set**"
   ]
  },
  {
   "cell_type": "code",
   "execution_count": 28,
   "metadata": {},
   "outputs": [
    {
     "name": "stdout",
     "output_type": "stream",
     "text": [
      "Accuracy Score: 69.67%\n"
     ]
    }
   ],
   "source": [
    "# Test Set - Model Accuracy\n",
    "rfc_best = RandomForestClassifier(**best_params, random_state=1) # Implementation of the model with best parameters\n",
    "rfc_best.fit(X_train, y_train) # Fit the model\n",
    "score = rfc_best.score(X_test, y_test) # Evaluate the model on test set\n",
    "           \n",
    "print(f\"Accuracy Score: {100*score:.2f}%\") # display the accuracies on test set"
   ]
  },
  {
   "cell_type": "markdown",
   "metadata": {},
   "source": [
    "**<font size=\"3.5\">_Using RFC model, accuracy on training set is around ~70%_</font>**"
   ]
  },
  {
   "cell_type": "markdown",
   "metadata": {},
   "source": [
    "### **Confusion Matrix for Random Forest Classifier Model**"
   ]
  },
  {
   "cell_type": "code",
   "execution_count": 29,
   "metadata": {},
   "outputs": [
    {
     "data": {
      "text/plain": [
       "<Figure size 1080x864 with 0 Axes>"
      ]
     },
     "metadata": {},
     "output_type": "display_data"
    },
    {
     "data": {
      "image/png": "[encoded data removed]",
      "text/plain": [
       "<Figure size 432x288 with 2 Axes>"
      ]
     },
     "metadata": {
      "needs_background": "light"
     },
     "output_type": "display_data"
    }
   ],
   "source": [
    "plt.figure(figsize=(15,12)) # Set the size of the plot\n",
    "plot_confusion_matrix(rfc_best, X_test, y_test, display_labels=[\"NO\",\"YES\"]) # Plot the confusion Matrix\n",
    "plt.title(\"Confusion Matrix for RFC Model\", size=20) # Set the title of the plot\n",
    "plt.xlabel(\"Predicted Labels\", size=15) # Set x axis label\n",
    "plt.ylabel(\"True Labels\", size=15) # Set y axis label\n",
    "plt.show() # Show the plot"
   ]
  },
  {
   "cell_type": "markdown",
   "metadata": {},
   "source": [
    "**<font size=\"4\">_This model has optimum performance on test set. However, we will be building another model which is Gradient Boosting Classifier Model in the below code cells._</font>**"
   ]
  },
  {
   "cell_type": "markdown",
   "metadata": {},
   "source": [
    "## **Gradient Boosting Classifier**"
   ]
  },
  {
   "cell_type": "code",
   "execution_count": 30,
   "metadata": {},
   "outputs": [
    {
     "name": "stdout",
     "output_type": "stream",
     "text": [
      "Accuracy Score of Training Data for Depth 5, max_leaf_node 10 and min_samples_leaf 10 is 71.78%\n",
      "Accuracy Score of Validation Data for Depth 5, max_leaf_node 10 and min_samples_leaf 10 is 71.67%\n",
      "*************************************************************\n",
      "Accuracy Score of Training Data for Depth 5, max_leaf_node 15 and min_samples_leaf 10 is 71.90%\n",
      "Accuracy Score of Validation Data for Depth 5, max_leaf_node 15 and min_samples_leaf 10 is 71.80%\n",
      "*************************************************************\n",
      "Best Score is 71.80%\n",
      "Best Params are {'max_depth': 5, 'max_leaf_nodes': 15, 'min_samples_leaf': 10}\n"
     ]
    }
   ],
   "source": [
    "#Declare training and test arrays\n",
    "#train_accuracies = []\n",
    "#test_accuracies = []\n",
    "\n",
    "#Initialize the ranges for maximum depth, maximum leaf nodes and minimum samples leaf.\n",
    "depth=range(5,7,2)\n",
    "leaf_node=range(10,16,5)\n",
    "sample_leaf=range(10,15,5)\n",
    "\n",
    "best_score=0\n",
    "\n",
    "#For loop to build and fit the model\n",
    "for i in depth:\n",
    "    for j in leaf_node:\n",
    "        for k in sample_leaf:\n",
    "            #Build the model\n",
    "            gbc = GradientBoostingClassifier(max_depth=i, max_leaf_nodes=j, min_samples_leaf=k, random_state=1)\n",
    "            \n",
    "            #Fit the model\n",
    "            gbc.fit(X_train, y_train)\n",
    "            \n",
    "            #Evaluate and display the accuracies for training and test data\n",
    "            accuracy_train = gbc.score(X_train, y_train)\n",
    "            accuracy_val = gbc.score(X_val, y_val)\n",
    "            print(f\"Accuracy Score of Training Data for Depth {i}, max_leaf_node {j} and min_samples_leaf {k} is {100*accuracy_train:.2f}%\")\n",
    "            print(f\"Accuracy Score of Validation Data for Depth {i}, max_leaf_node {j} and min_samples_leaf {k} is {100*accuracy_val:.2f}%\")\n",
    "            print(\"*************************************************************\")\n",
    "            #print()\n",
    "            #train_accuracies.append(accuracy_train)\n",
    "            #test_accuracies.append(accuracy_test)\n",
    "            \n",
    "            #Plot the Decision Trees using sklearn.tree.plot_tree() method\n",
    "            #fig, axes = plt.subplots(nrows = 1,ncols = 1,figsize = (3,3), dpi=200)\n",
    "            #plot_tree(tree, filled = True)\n",
    "            if accuracy_val >= best_score:\n",
    "                best_score=accuracy_val\n",
    "                best_params={'max_depth': i, 'max_leaf_nodes' : j , 'min_samples_leaf': k}\n",
    "            \n",
    "print(f\"Best Score is {100*best_score:.2f}%\")\n",
    "print(f\"Best Params are {best_params}\")"
   ]
  },
  {
   "cell_type": "markdown",
   "metadata": {},
   "source": [
    "### **Creation of Gradient Boosting Classifier Model with Best Parameters**"
   ]
  },
  {
   "cell_type": "code",
   "execution_count": 31,
   "metadata": {},
   "outputs": [
    {
     "name": "stdout",
     "output_type": "stream",
     "text": [
      "Accuracy Score of Training Data is 71.90%\n",
      "Accuracy Score of Test Data is 71.85%\n"
     ]
    }
   ],
   "source": [
    "gbc_best = GradientBoostingClassifier(**best_params, random_state=1) # Create GBC Model with Best parameters.\n",
    "            \n",
    "#Fit the model\n",
    "gbc_best.fit(X_train, y_train)\n",
    "            \n",
    "#Evaluate and display the accuracies for training and test data\n",
    "accuracy_train = gbc_best.score(X_train, y_train)\n",
    "accuracy_test = gbc_best.score(X_test, y_test)\n",
    "print(f\"Accuracy Score of Training Data is {100*accuracy_train:.2f}%\")\n",
    "print(f\"Accuracy Score of Test Data is {100*accuracy_test:.2f}%\")"
   ]
  },
  {
   "cell_type": "markdown",
   "metadata": {},
   "source": [
    "**<font size=\"4\">_With Gradient Boosting Classifier model, accuracy of test set is turned out to be 71.85%_</font>**"
   ]
  },
  {
   "cell_type": "markdown",
   "metadata": {},
   "source": [
    "### **Confusion Matrix for Gradient Boosting Classifier Model**"
   ]
  },
  {
   "cell_type": "code",
   "execution_count": 32,
   "metadata": {},
   "outputs": [
    {
     "data": {
      "text/plain": [
       "<Figure size 1080x864 with 0 Axes>"
      ]
     },
     "metadata": {},
     "output_type": "display_data"
    },
    {
     "data": {
      "image/png": "[encoded data removed]",
      "text/plain": [
       "<Figure size 432x288 with 2 Axes>"
      ]
     },
     "metadata": {
      "needs_background": "light"
     },
     "output_type": "display_data"
    }
   ],
   "source": [
    "plt.figure(figsize=(15,12)) # Set the size of the plot\n",
    "plot_confusion_matrix(gbc_best, X_test, y_test, display_labels=[\"NO\",\"YES\"]) # Plot the confusion Matrix\n",
    "plt.title(\"Confusion Matrix for GBC Model\", size=20) # Set the title of the plot\n",
    "plt.xlabel(\"Predicted Labels\", size=15) # Set x axis label\n",
    "plt.ylabel(\"True Labels\", size=15) # Set y axis label\n",
    "plt.show() # Show the plot"
   ]
  },
  {
   "cell_type": "markdown",
   "metadata": {},
   "source": [
    "**<font size=\"4\">_On GBC model, accuracy on test set is coming out to be 71.85%_</font>**"
   ]
  },
  {
   "cell_type": "markdown",
   "metadata": {},
   "source": [
    "## **Conclusions**\n",
    "\n",
    "**<font size=\"3.5\">1. This dataset has target column as 'reordered', i.e., we are predicting whether the customer will reorder or not. For that we built two classification models - RFC and GBC.</font>**     \n",
    "**<font size=\"3.5\">2. On Random Forest Classifier Model, our test accuracy is around ~70%.</font>**    \n",
    "**<font size=\"3.5\">3. On Gradient Boosting Classifier Model, our test accuracy is coming out to be 71.85%.</font>**    \n",
    "**<font size=\"3.5\">4. Both the models are performing fairly well on the sampled dataset. GBC model has comparatively higher accuracy than RFC model.</font>**     \n",
    "**<font size=\"3.5\">5. For future, we can add more data points to the model. This will ensure more accurate prediction of 'reordered' label.</font>**     "
   ]
  },
  {
   "cell_type": "markdown",
   "metadata": {},
   "source": [
    "## **References**\n",
    "\n",
    "- https://scikit-learn.org/stable/modules/generated/sklearn.model_selection.RandomizedSearchCV.html\n",
    "- https://scikit-learn.org/stable/modules/generated/sklearn.ensemble.RandomForestClassifier.html\n",
    "- https://scikit-learn.org/stable/modules/generated/sklearn.metrics.plot_confusion_matrix.html\n",
    "- https://www.kaggle.com/c/instacart-market-basket-analysis/data\n",
    "- https://tech.instacart.com/3-million-instacart-orders-open-sourced-d40d29ead6f2"
   ]
  }
 ],
 "metadata": {
  "kernelspec": {
   "display_name": "Python 3",
   "language": "python",
   "name": "python3"
  },
  "language_info": {
   "codemirror_mode": {
    "name": "ipython",
    "version": 3
   },
   "file_extension": ".py",
   "mimetype": "text/x-python",
   "name": "python",
   "nbconvert_exporter": "python",
   "pygments_lexer": "ipython3",
   "version": "3.8.5"
  }
 },
 "nbformat": 4,
 "nbformat_minor": 4
}
